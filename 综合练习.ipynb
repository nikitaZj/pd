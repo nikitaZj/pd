{
 "cells": [
  {
   "cell_type": "code",
   "execution_count": 2,
   "metadata": {},
   "outputs": [],
   "source": [
    "import pandas as pd\n",
    "import numpy as np"
   ]
  },
  {
   "cell_type": "markdown",
   "metadata": {},
   "source": [
    "# ex1"
   ]
  },
  {
   "cell_type": "code",
   "execution_count": 142,
   "metadata": {},
   "outputs": [],
   "source": [
    "company = pd.read_csv('../exe_data/Company.csv')\n",
    "company_data = pd.read_csv('../exe_data/Company_Data.csv')"
   ]
  },
  {
   "cell_type": "code",
   "execution_count": 76,
   "metadata": {},
   "outputs": [],
   "source": [
    "# 先对company_data进行处理：\n",
    "# 1.添加一列为收入所在年份，\n",
    "# 2.发现有些收入额为负数，暂时选择只保留收入为正的记录\n",
    "# 3.计算每年每年每个企业各类别的收入占比（按照企业，年份聚合，计算每个类别的收入占比）\n",
    "# 4. 根据企业、年份聚合，计算对应的熵"
   ]
  },
  {
   "cell_type": "code",
   "execution_count": 77,
   "metadata": {},
   "outputs": [],
   "source": [
    "company_data['year'] = pd.to_datetime(company_data.日期).dt.year\n",
    "company_data = company_data[company_data.收入额>0]\n",
    "company_data['组内收入贡献'] = company_data.groupby(['year','证券代码'])['收入额'].transform(lambda x:x/x.sum())"
   ]
  },
  {
   "cell_type": "code",
   "execution_count": 79,
   "metadata": {},
   "outputs": [
    {
     "data": {
      "text/html": [
       "<div>\n",
       "<style scoped>\n",
       "    .dataframe tbody tr th:only-of-type {\n",
       "        vertical-align: middle;\n",
       "    }\n",
       "\n",
       "    .dataframe tbody tr th {\n",
       "        vertical-align: top;\n",
       "    }\n",
       "\n",
       "    .dataframe thead th {\n",
       "        text-align: right;\n",
       "    }\n",
       "</style>\n",
       "<table border=\"1\" class=\"dataframe\">\n",
       "  <thead>\n",
       "    <tr style=\"text-align: right;\">\n",
       "      <th></th>\n",
       "      <th>证券代码</th>\n",
       "      <th>日期</th>\n",
       "      <th>收入类型</th>\n",
       "      <th>收入额</th>\n",
       "      <th>year</th>\n",
       "      <th>组内收入贡献</th>\n",
       "    </tr>\n",
       "  </thead>\n",
       "  <tbody>\n",
       "    <tr>\n",
       "      <th>0</th>\n",
       "      <td>1</td>\n",
       "      <td>2008/12/31</td>\n",
       "      <td>1</td>\n",
       "      <td>1.084218e+10</td>\n",
       "      <td>2008</td>\n",
       "      <td>0.146473</td>\n",
       "    </tr>\n",
       "    <tr>\n",
       "      <th>1</th>\n",
       "      <td>1</td>\n",
       "      <td>2008/12/31</td>\n",
       "      <td>2</td>\n",
       "      <td>1.259789e+10</td>\n",
       "      <td>2008</td>\n",
       "      <td>0.170192</td>\n",
       "    </tr>\n",
       "    <tr>\n",
       "      <th>2</th>\n",
       "      <td>1</td>\n",
       "      <td>2008/12/31</td>\n",
       "      <td>3</td>\n",
       "      <td>1.451312e+10</td>\n",
       "      <td>2008</td>\n",
       "      <td>0.196066</td>\n",
       "    </tr>\n",
       "    <tr>\n",
       "      <th>3</th>\n",
       "      <td>1</td>\n",
       "      <td>2008/12/31</td>\n",
       "      <td>4</td>\n",
       "      <td>1.063843e+09</td>\n",
       "      <td>2008</td>\n",
       "      <td>0.014372</td>\n",
       "    </tr>\n",
       "    <tr>\n",
       "      <th>4</th>\n",
       "      <td>1</td>\n",
       "      <td>2008/12/31</td>\n",
       "      <td>5</td>\n",
       "      <td>8.513880e+08</td>\n",
       "      <td>2008</td>\n",
       "      <td>0.011502</td>\n",
       "    </tr>\n",
       "  </tbody>\n",
       "</table>\n",
       "</div>"
      ],
      "text/plain": [
       "   证券代码          日期  收入类型           收入额  year    组内收入贡献\n",
       "0     1  2008/12/31     1  1.084218e+10  2008  0.146473\n",
       "1     1  2008/12/31     2  1.259789e+10  2008  0.170192\n",
       "2     1  2008/12/31     3  1.451312e+10  2008  0.196066\n",
       "3     1  2008/12/31     4  1.063843e+09  2008  0.014372\n",
       "4     1  2008/12/31     5  8.513880e+08  2008  0.011502"
      ]
     },
     "execution_count": 79,
     "metadata": {},
     "output_type": "execute_result"
    }
   ],
   "source": [
    "company_data.head()"
   ]
  },
  {
   "cell_type": "code",
   "execution_count": 88,
   "metadata": {},
   "outputs": [],
   "source": [
    "company_data['组内贡献new'] = company_data.组内收入贡献.apply(lambda x : -x*np.log(x))"
   ]
  },
  {
   "cell_type": "code",
   "execution_count": 89,
   "metadata": {},
   "outputs": [
    {
     "data": {
      "text/html": [
       "<div>\n",
       "<style scoped>\n",
       "    .dataframe tbody tr th:only-of-type {\n",
       "        vertical-align: middle;\n",
       "    }\n",
       "\n",
       "    .dataframe tbody tr th {\n",
       "        vertical-align: top;\n",
       "    }\n",
       "\n",
       "    .dataframe thead th {\n",
       "        text-align: right;\n",
       "    }\n",
       "</style>\n",
       "<table border=\"1\" class=\"dataframe\">\n",
       "  <thead>\n",
       "    <tr style=\"text-align: right;\">\n",
       "      <th></th>\n",
       "      <th>证券代码</th>\n",
       "      <th>日期</th>\n",
       "      <th>收入类型</th>\n",
       "      <th>收入额</th>\n",
       "      <th>year</th>\n",
       "      <th>组内收入贡献</th>\n",
       "      <th>组内贡献new</th>\n",
       "    </tr>\n",
       "  </thead>\n",
       "  <tbody>\n",
       "    <tr>\n",
       "      <th>0</th>\n",
       "      <td>1</td>\n",
       "      <td>2008/12/31</td>\n",
       "      <td>1</td>\n",
       "      <td>1.084218e+10</td>\n",
       "      <td>2008</td>\n",
       "      <td>0.146473</td>\n",
       "      <td>0.281362</td>\n",
       "    </tr>\n",
       "    <tr>\n",
       "      <th>1</th>\n",
       "      <td>1</td>\n",
       "      <td>2008/12/31</td>\n",
       "      <td>2</td>\n",
       "      <td>1.259789e+10</td>\n",
       "      <td>2008</td>\n",
       "      <td>0.170192</td>\n",
       "      <td>0.301381</td>\n",
       "    </tr>\n",
       "    <tr>\n",
       "      <th>2</th>\n",
       "      <td>1</td>\n",
       "      <td>2008/12/31</td>\n",
       "      <td>3</td>\n",
       "      <td>1.451312e+10</td>\n",
       "      <td>2008</td>\n",
       "      <td>0.196066</td>\n",
       "      <td>0.319451</td>\n",
       "    </tr>\n",
       "    <tr>\n",
       "      <th>3</th>\n",
       "      <td>1</td>\n",
       "      <td>2008/12/31</td>\n",
       "      <td>4</td>\n",
       "      <td>1.063843e+09</td>\n",
       "      <td>2008</td>\n",
       "      <td>0.014372</td>\n",
       "      <td>0.060973</td>\n",
       "    </tr>\n",
       "    <tr>\n",
       "      <th>4</th>\n",
       "      <td>1</td>\n",
       "      <td>2008/12/31</td>\n",
       "      <td>5</td>\n",
       "      <td>8.513880e+08</td>\n",
       "      <td>2008</td>\n",
       "      <td>0.011502</td>\n",
       "      <td>0.051359</td>\n",
       "    </tr>\n",
       "  </tbody>\n",
       "</table>\n",
       "</div>"
      ],
      "text/plain": [
       "   证券代码          日期  收入类型           收入额  year    组内收入贡献   组内贡献new\n",
       "0     1  2008/12/31     1  1.084218e+10  2008  0.146473  0.281362\n",
       "1     1  2008/12/31     2  1.259789e+10  2008  0.170192  0.301381\n",
       "2     1  2008/12/31     3  1.451312e+10  2008  0.196066  0.319451\n",
       "3     1  2008/12/31     4  1.063843e+09  2008  0.014372  0.060973\n",
       "4     1  2008/12/31     5  8.513880e+08  2008  0.011502  0.051359"
      ]
     },
     "execution_count": 89,
     "metadata": {},
     "output_type": "execute_result"
    }
   ],
   "source": [
    "company_data.head()"
   ]
  },
  {
   "cell_type": "code",
   "execution_count": 107,
   "metadata": {},
   "outputs": [],
   "source": [
    "df_s = company_data.groupby(['证券代码','year'])['组内贡献new'].sum().reset_index()"
   ]
  },
  {
   "cell_type": "code",
   "execution_count": 108,
   "metadata": {},
   "outputs": [
    {
     "data": {
      "text/html": [
       "<div>\n",
       "<style scoped>\n",
       "    .dataframe tbody tr th:only-of-type {\n",
       "        vertical-align: middle;\n",
       "    }\n",
       "\n",
       "    .dataframe tbody tr th {\n",
       "        vertical-align: top;\n",
       "    }\n",
       "\n",
       "    .dataframe thead th {\n",
       "        text-align: right;\n",
       "    }\n",
       "</style>\n",
       "<table border=\"1\" class=\"dataframe\">\n",
       "  <thead>\n",
       "    <tr style=\"text-align: right;\">\n",
       "      <th></th>\n",
       "      <th>证券代码</th>\n",
       "      <th>year</th>\n",
       "      <th>组内贡献new</th>\n",
       "    </tr>\n",
       "  </thead>\n",
       "  <tbody>\n",
       "    <tr>\n",
       "      <th>0</th>\n",
       "      <td>1</td>\n",
       "      <td>2008</td>\n",
       "      <td>2.068035</td>\n",
       "    </tr>\n",
       "    <tr>\n",
       "      <th>1</th>\n",
       "      <td>1</td>\n",
       "      <td>2009</td>\n",
       "      <td>1.671752</td>\n",
       "    </tr>\n",
       "    <tr>\n",
       "      <th>2</th>\n",
       "      <td>1</td>\n",
       "      <td>2010</td>\n",
       "      <td>2.108355</td>\n",
       "    </tr>\n",
       "    <tr>\n",
       "      <th>3</th>\n",
       "      <td>1</td>\n",
       "      <td>2011</td>\n",
       "      <td>3.137535</td>\n",
       "    </tr>\n",
       "    <tr>\n",
       "      <th>4</th>\n",
       "      <td>1</td>\n",
       "      <td>2012</td>\n",
       "      <td>2.698959</td>\n",
       "    </tr>\n",
       "  </tbody>\n",
       "</table>\n",
       "</div>"
      ],
      "text/plain": [
       "   证券代码  year   组内贡献new\n",
       "0     1  2008  2.068035\n",
       "1     1  2009  1.671752\n",
       "2     1  2010  2.108355\n",
       "3     1  2011  3.137535\n",
       "4     1  2012  2.698959"
      ]
     },
     "execution_count": 108,
     "metadata": {},
     "output_type": "execute_result"
    }
   ],
   "source": [
    "df_s.head()"
   ]
  },
  {
   "cell_type": "code",
   "execution_count": 109,
   "metadata": {},
   "outputs": [],
   "source": [
    "df_s.证券代码 = df_s.证券代码.astype('string')\n",
    "df_s.证券代码 = df_s.证券代码.apply(lambda x: '#'+x.zfill(6))"
   ]
  },
  {
   "cell_type": "code",
   "execution_count": 110,
   "metadata": {},
   "outputs": [],
   "source": [
    "df_s.year = df_s.year.astype('int')"
   ]
  },
  {
   "cell_type": "code",
   "execution_count": 111,
   "metadata": {},
   "outputs": [],
   "source": [
    "df_s = df_s.rename(columns = {'year':'日期','组内贡献new':'I'})"
   ]
  },
  {
   "cell_type": "code",
   "execution_count": 131,
   "metadata": {},
   "outputs": [],
   "source": [
    "df1 = company.merge(df_s,how = 'left', on = ['证券代码','日期'])"
   ]
  },
  {
   "cell_type": "code",
   "execution_count": 141,
   "metadata": {},
   "outputs": [
    {
     "data": {
      "text/html": [
       "<div>\n",
       "<style scoped>\n",
       "    .dataframe tbody tr th:only-of-type {\n",
       "        vertical-align: middle;\n",
       "    }\n",
       "\n",
       "    .dataframe tbody tr th {\n",
       "        vertical-align: top;\n",
       "    }\n",
       "\n",
       "    .dataframe thead th {\n",
       "        text-align: right;\n",
       "    }\n",
       "</style>\n",
       "<table border=\"1\" class=\"dataframe\">\n",
       "  <thead>\n",
       "    <tr style=\"text-align: right;\">\n",
       "      <th></th>\n",
       "      <th>证券代码</th>\n",
       "      <th>日期</th>\n",
       "      <th>I</th>\n",
       "    </tr>\n",
       "  </thead>\n",
       "  <tbody>\n",
       "    <tr>\n",
       "      <th>0</th>\n",
       "      <td>#000007</td>\n",
       "      <td>2014</td>\n",
       "      <td>3.070462</td>\n",
       "    </tr>\n",
       "    <tr>\n",
       "      <th>1</th>\n",
       "      <td>#000403</td>\n",
       "      <td>2015</td>\n",
       "      <td>2.790585</td>\n",
       "    </tr>\n",
       "    <tr>\n",
       "      <th>2</th>\n",
       "      <td>#000408</td>\n",
       "      <td>2016</td>\n",
       "      <td>2.818541</td>\n",
       "    </tr>\n",
       "    <tr>\n",
       "      <th>3</th>\n",
       "      <td>#000408</td>\n",
       "      <td>2017</td>\n",
       "      <td>NaN</td>\n",
       "    </tr>\n",
       "    <tr>\n",
       "      <th>4</th>\n",
       "      <td>#000426</td>\n",
       "      <td>2015</td>\n",
       "      <td>3.084266</td>\n",
       "    </tr>\n",
       "  </tbody>\n",
       "</table>\n",
       "</div>"
      ],
      "text/plain": [
       "      证券代码    日期         I\n",
       "0  #000007  2014  3.070462\n",
       "1  #000403  2015  2.790585\n",
       "2  #000408  2016  2.818541\n",
       "3  #000408  2017       NaN\n",
       "4  #000426  2015  3.084266"
      ]
     },
     "execution_count": 141,
     "metadata": {},
     "output_type": "execute_result"
    }
   ],
   "source": [
    "df1.head()"
   ]
  },
  {
   "cell_type": "markdown",
   "metadata": {},
   "source": [
    "# EX2"
   ]
  },
  {
   "cell_type": "code",
   "execution_count": 111,
   "metadata": {},
   "outputs": [],
   "source": [
    "df = pd.read_excel('../exe_data/组队信息汇总表（Pandas）.xlsx')\n",
    "df2 = df.copy()"
   ]
  },
  {
   "cell_type": "code",
   "execution_count": 112,
   "metadata": {},
   "outputs": [],
   "source": [
    "# 修改列名，便于使用wide_to_long\n",
    "df2.columns = ['所在群', '队伍名称', '编号_0', '群昵称_0', '编号_1', '群昵称_1', '编号_2',\n",
    "       '群昵称_2', '编号_3', '群昵称_3', '编号_4', '群昵称_4', '编号_5',\n",
    "       '群昵称_5', '编号_6', '群昵称_6', '编号_7', '群昵称_7', '编号_8',\n",
    "       '群昵称_8', '编号_9', '群昵称_9', '编号_10', '群昵称_10']"
   ]
  },
  {
   "cell_type": "code",
   "execution_count": 113,
   "metadata": {},
   "outputs": [],
   "source": [
    "# 利用wide_to_long使宽表变长表\n",
    "df2 = pd.wide_to_long(df2, \n",
    "                stubnames = ['群昵称','编号'],\n",
    "                i = ['所在群', '队伍名称'],\n",
    "                j = '队内排序', \n",
    "                sep = '_', \n",
    "                suffix = '.+')"
   ]
  },
  {
   "cell_type": "code",
   "execution_count": 114,
   "metadata": {},
   "outputs": [],
   "source": [
    "# 去掉空值\n",
    "df2 = df2.reset_index().dropna()"
   ]
  },
  {
   "cell_type": "code",
   "execution_count": 115,
   "metadata": {},
   "outputs": [],
   "source": [
    "# 修改index\n",
    "df2.index = np.arange(df2.shape[0])"
   ]
  },
  {
   "cell_type": "code",
   "execution_count": 116,
   "metadata": {},
   "outputs": [],
   "source": [
    "# 修改编号的数据类型\n",
    "df2.编号 = df2.编号.astype('int')"
   ]
  },
  {
   "cell_type": "code",
   "execution_count": 117,
   "metadata": {},
   "outputs": [],
   "source": [
    "# 添加是否为队长这个字段\n",
    "df2['是否队长'] = 1\n",
    "df2['是否队长'] = df2['是否队长'].where(df2.群昵称.isin(df.队长_群昵称), 0)"
   ]
  },
  {
   "cell_type": "code",
   "execution_count": 118,
   "metadata": {},
   "outputs": [],
   "source": [
    "# 取出有用的字段\n",
    "df2 = df2[['是否队长', '队伍名称', '群昵称', '编号']]"
   ]
  },
  {
   "cell_type": "code",
   "execution_count": 119,
   "metadata": {},
   "outputs": [],
   "source": [
    "# 列名修改\n",
    "df2.rename(columns = {'群昵称':'昵称'}, inplace = True)"
   ]
  },
  {
   "cell_type": "code",
   "execution_count": 120,
   "metadata": {},
   "outputs": [
    {
     "data": {
      "text/html": [
       "<div>\n",
       "<style scoped>\n",
       "    .dataframe tbody tr th:only-of-type {\n",
       "        vertical-align: middle;\n",
       "    }\n",
       "\n",
       "    .dataframe tbody tr th {\n",
       "        vertical-align: top;\n",
       "    }\n",
       "\n",
       "    .dataframe thead th {\n",
       "        text-align: right;\n",
       "    }\n",
       "</style>\n",
       "<table border=\"1\" class=\"dataframe\">\n",
       "  <thead>\n",
       "    <tr style=\"text-align: right;\">\n",
       "      <th></th>\n",
       "      <th>是否队长</th>\n",
       "      <th>队伍名称</th>\n",
       "      <th>昵称</th>\n",
       "      <th>编号</th>\n",
       "    </tr>\n",
       "  </thead>\n",
       "  <tbody>\n",
       "    <tr>\n",
       "      <th>0</th>\n",
       "      <td>1</td>\n",
       "      <td>你说的都对队</td>\n",
       "      <td>山枫叶纷飞</td>\n",
       "      <td>5</td>\n",
       "    </tr>\n",
       "    <tr>\n",
       "      <th>1</th>\n",
       "      <td>0</td>\n",
       "      <td>你说的都对队</td>\n",
       "      <td>蔡</td>\n",
       "      <td>6</td>\n",
       "    </tr>\n",
       "    <tr>\n",
       "      <th>2</th>\n",
       "      <td>0</td>\n",
       "      <td>你说的都对队</td>\n",
       "      <td>安慕希</td>\n",
       "      <td>7</td>\n",
       "    </tr>\n",
       "    <tr>\n",
       "      <th>3</th>\n",
       "      <td>0</td>\n",
       "      <td>你说的都对队</td>\n",
       "      <td>信仰</td>\n",
       "      <td>8</td>\n",
       "    </tr>\n",
       "    <tr>\n",
       "      <th>4</th>\n",
       "      <td>0</td>\n",
       "      <td>你说的都对队</td>\n",
       "      <td>biubiu🙈🙈</td>\n",
       "      <td>20</td>\n",
       "    </tr>\n",
       "    <tr>\n",
       "      <th>...</th>\n",
       "      <td>...</td>\n",
       "      <td>...</td>\n",
       "      <td>...</td>\n",
       "      <td>...</td>\n",
       "    </tr>\n",
       "    <tr>\n",
       "      <th>141</th>\n",
       "      <td>0</td>\n",
       "      <td>七星联盟</td>\n",
       "      <td>Daisy</td>\n",
       "      <td>63</td>\n",
       "    </tr>\n",
       "    <tr>\n",
       "      <th>142</th>\n",
       "      <td>0</td>\n",
       "      <td>七星联盟</td>\n",
       "      <td>One Better</td>\n",
       "      <td>131</td>\n",
       "    </tr>\n",
       "    <tr>\n",
       "      <th>143</th>\n",
       "      <td>0</td>\n",
       "      <td>七星联盟</td>\n",
       "      <td>rain</td>\n",
       "      <td>112</td>\n",
       "    </tr>\n",
       "    <tr>\n",
       "      <th>144</th>\n",
       "      <td>1</td>\n",
       "      <td>应如是</td>\n",
       "      <td>思无邪</td>\n",
       "      <td>54</td>\n",
       "    </tr>\n",
       "    <tr>\n",
       "      <th>145</th>\n",
       "      <td>0</td>\n",
       "      <td>应如是</td>\n",
       "      <td>Justzer0</td>\n",
       "      <td>58</td>\n",
       "    </tr>\n",
       "  </tbody>\n",
       "</table>\n",
       "<p>146 rows × 4 columns</p>\n",
       "</div>"
      ],
      "text/plain": [
       "     是否队长    队伍名称          昵称   编号\n",
       "0       1  你说的都对队      山枫叶纷飞     5\n",
       "1       0  你说的都对队          蔡     6\n",
       "2       0  你说的都对队        安慕希     7\n",
       "3       0  你说的都对队          信仰    8\n",
       "4       0  你说的都对队    biubiu🙈🙈   20\n",
       "..    ...     ...         ...  ...\n",
       "141     0    七星联盟       Daisy   63\n",
       "142     0    七星联盟  One Better  131\n",
       "143     0    七星联盟        rain  112\n",
       "144     1     应如是         思无邪   54\n",
       "145     0     应如是    Justzer0   58\n",
       "\n",
       "[146 rows x 4 columns]"
      ]
     },
     "execution_count": 120,
     "metadata": {},
     "output_type": "execute_result"
    }
   ],
   "source": [
    "df2"
   ]
  },
  {
   "cell_type": "markdown",
   "metadata": {},
   "source": [
    "#  ex3"
   ]
  },
  {
   "cell_type": "code",
   "execution_count": 186,
   "metadata": {},
   "outputs": [],
   "source": [
    "population = pd.read_csv('../exe_data/county_population.csv')\n",
    "candidate = pd.read_csv('../exe_data/president_county_candidate.csv')"
   ]
  },
  {
   "cell_type": "code",
   "execution_count": 187,
   "metadata": {},
   "outputs": [
    {
     "data": {
      "text/html": [
       "<div>\n",
       "<style scoped>\n",
       "    .dataframe tbody tr th:only-of-type {\n",
       "        vertical-align: middle;\n",
       "    }\n",
       "\n",
       "    .dataframe tbody tr th {\n",
       "        vertical-align: top;\n",
       "    }\n",
       "\n",
       "    .dataframe thead th {\n",
       "        text-align: right;\n",
       "    }\n",
       "</style>\n",
       "<table border=\"1\" class=\"dataframe\">\n",
       "  <thead>\n",
       "    <tr style=\"text-align: right;\">\n",
       "      <th></th>\n",
       "      <th>US County</th>\n",
       "      <th>Population</th>\n",
       "    </tr>\n",
       "  </thead>\n",
       "  <tbody>\n",
       "    <tr>\n",
       "      <th>0</th>\n",
       "      <td>.Autauga County, Alabama</td>\n",
       "      <td>55869</td>\n",
       "    </tr>\n",
       "    <tr>\n",
       "      <th>1</th>\n",
       "      <td>.Baldwin County, Alabama</td>\n",
       "      <td>223234</td>\n",
       "    </tr>\n",
       "    <tr>\n",
       "      <th>2</th>\n",
       "      <td>.Barbour County, Alabama</td>\n",
       "      <td>24686</td>\n",
       "    </tr>\n",
       "    <tr>\n",
       "      <th>3</th>\n",
       "      <td>.Bibb County, Alabama</td>\n",
       "      <td>22394</td>\n",
       "    </tr>\n",
       "    <tr>\n",
       "      <th>4</th>\n",
       "      <td>.Blount County, Alabama</td>\n",
       "      <td>57826</td>\n",
       "    </tr>\n",
       "  </tbody>\n",
       "</table>\n",
       "</div>"
      ],
      "text/plain": [
       "                  US County  Population\n",
       "0  .Autauga County, Alabama       55869\n",
       "1  .Baldwin County, Alabama      223234\n",
       "2  .Barbour County, Alabama       24686\n",
       "3     .Bibb County, Alabama       22394\n",
       "4   .Blount County, Alabama       57826"
      ]
     },
     "execution_count": 187,
     "metadata": {},
     "output_type": "execute_result"
    }
   ],
   "source": [
    "population.head()\n",
    "# 需要先将US County 分出两列，县和州"
   ]
  },
  {
   "cell_type": "code",
   "execution_count": 188,
   "metadata": {},
   "outputs": [
    {
     "data": {
      "text/html": [
       "<div>\n",
       "<style scoped>\n",
       "    .dataframe tbody tr th:only-of-type {\n",
       "        vertical-align: middle;\n",
       "    }\n",
       "\n",
       "    .dataframe tbody tr th {\n",
       "        vertical-align: top;\n",
       "    }\n",
       "\n",
       "    .dataframe thead th {\n",
       "        text-align: right;\n",
       "    }\n",
       "</style>\n",
       "<table border=\"1\" class=\"dataframe\">\n",
       "  <thead>\n",
       "    <tr style=\"text-align: right;\">\n",
       "      <th></th>\n",
       "      <th>state</th>\n",
       "      <th>county</th>\n",
       "      <th>candidate</th>\n",
       "      <th>party</th>\n",
       "      <th>total_votes</th>\n",
       "      <th>won</th>\n",
       "    </tr>\n",
       "  </thead>\n",
       "  <tbody>\n",
       "    <tr>\n",
       "      <th>0</th>\n",
       "      <td>Delaware</td>\n",
       "      <td>Kent County</td>\n",
       "      <td>Joe Biden</td>\n",
       "      <td>DEM</td>\n",
       "      <td>44552</td>\n",
       "      <td>True</td>\n",
       "    </tr>\n",
       "    <tr>\n",
       "      <th>1</th>\n",
       "      <td>Delaware</td>\n",
       "      <td>Kent County</td>\n",
       "      <td>Donald Trump</td>\n",
       "      <td>REP</td>\n",
       "      <td>41009</td>\n",
       "      <td>False</td>\n",
       "    </tr>\n",
       "    <tr>\n",
       "      <th>2</th>\n",
       "      <td>Delaware</td>\n",
       "      <td>Kent County</td>\n",
       "      <td>Jo Jorgensen</td>\n",
       "      <td>LIB</td>\n",
       "      <td>1044</td>\n",
       "      <td>False</td>\n",
       "    </tr>\n",
       "    <tr>\n",
       "      <th>3</th>\n",
       "      <td>Delaware</td>\n",
       "      <td>Kent County</td>\n",
       "      <td>Howie Hawkins</td>\n",
       "      <td>GRN</td>\n",
       "      <td>420</td>\n",
       "      <td>False</td>\n",
       "    </tr>\n",
       "    <tr>\n",
       "      <th>4</th>\n",
       "      <td>Delaware</td>\n",
       "      <td>New Castle County</td>\n",
       "      <td>Joe Biden</td>\n",
       "      <td>DEM</td>\n",
       "      <td>195034</td>\n",
       "      <td>True</td>\n",
       "    </tr>\n",
       "  </tbody>\n",
       "</table>\n",
       "</div>"
      ],
      "text/plain": [
       "      state             county      candidate party  total_votes    won\n",
       "0  Delaware        Kent County      Joe Biden   DEM        44552   True\n",
       "1  Delaware        Kent County   Donald Trump   REP        41009  False\n",
       "2  Delaware        Kent County   Jo Jorgensen   LIB         1044  False\n",
       "3  Delaware        Kent County  Howie Hawkins   GRN          420  False\n",
       "4  Delaware  New Castle County      Joe Biden   DEM       195034   True"
      ]
     },
     "execution_count": 188,
     "metadata": {},
     "output_type": "execute_result"
    }
   ],
   "source": [
    "candidate.head()"
   ]
  },
  {
   "cell_type": "markdown",
   "metadata": {},
   "source": [
    "1 有多少县满足总投票数超过县人口数的一半"
   ]
  },
  {
   "cell_type": "code",
   "execution_count": 189,
   "metadata": {},
   "outputs": [],
   "source": [
    "# candidate 表  \n",
    "#  按照县聚合，得到每个县投票总人数\n",
    "#  把state，county 按照population中US County中的格式处理下\n",
    "#  把每个县投票人数信息添加到county表中,然后找出投票人数超过人口总数的县,并计数"
   ]
  },
  {
   "cell_type": "code",
   "execution_count": 190,
   "metadata": {},
   "outputs": [],
   "source": [
    "candidate['US County'] = '.'+candidate['county']+', '+candidate['state']\n",
    "temp = candidate.groupby('US County')['total_votes'].sum().reset_index()\n",
    "population = population.merge(temp, how = 'left', on = 'US County')"
   ]
  },
  {
   "cell_type": "code",
   "execution_count": 191,
   "metadata": {},
   "outputs": [
    {
     "data": {
      "text/html": [
       "<div>\n",
       "<style scoped>\n",
       "    .dataframe tbody tr th:only-of-type {\n",
       "        vertical-align: middle;\n",
       "    }\n",
       "\n",
       "    .dataframe tbody tr th {\n",
       "        vertical-align: top;\n",
       "    }\n",
       "\n",
       "    .dataframe thead th {\n",
       "        text-align: right;\n",
       "    }\n",
       "</style>\n",
       "<table border=\"1\" class=\"dataframe\">\n",
       "  <thead>\n",
       "    <tr style=\"text-align: right;\">\n",
       "      <th></th>\n",
       "      <th>US County</th>\n",
       "      <th>Population</th>\n",
       "      <th>total_votes</th>\n",
       "    </tr>\n",
       "  </thead>\n",
       "  <tbody>\n",
       "    <tr>\n",
       "      <th>0</th>\n",
       "      <td>.Autauga County, Alabama</td>\n",
       "      <td>55869</td>\n",
       "      <td>27770.0</td>\n",
       "    </tr>\n",
       "    <tr>\n",
       "      <th>1</th>\n",
       "      <td>.Baldwin County, Alabama</td>\n",
       "      <td>223234</td>\n",
       "      <td>109679.0</td>\n",
       "    </tr>\n",
       "    <tr>\n",
       "      <th>2</th>\n",
       "      <td>.Barbour County, Alabama</td>\n",
       "      <td>24686</td>\n",
       "      <td>10518.0</td>\n",
       "    </tr>\n",
       "    <tr>\n",
       "      <th>3</th>\n",
       "      <td>.Bibb County, Alabama</td>\n",
       "      <td>22394</td>\n",
       "      <td>9595.0</td>\n",
       "    </tr>\n",
       "    <tr>\n",
       "      <th>4</th>\n",
       "      <td>.Blount County, Alabama</td>\n",
       "      <td>57826</td>\n",
       "      <td>27588.0</td>\n",
       "    </tr>\n",
       "  </tbody>\n",
       "</table>\n",
       "</div>"
      ],
      "text/plain": [
       "                  US County  Population  total_votes\n",
       "0  .Autauga County, Alabama       55869      27770.0\n",
       "1  .Baldwin County, Alabama      223234     109679.0\n",
       "2  .Barbour County, Alabama       24686      10518.0\n",
       "3     .Bibb County, Alabama       22394       9595.0\n",
       "4   .Blount County, Alabama       57826      27588.0"
      ]
     },
     "execution_count": 191,
     "metadata": {},
     "output_type": "execute_result"
    }
   ],
   "source": [
    "population.head()"
   ]
  },
  {
   "cell_type": "code",
   "execution_count": 192,
   "metadata": {},
   "outputs": [
    {
     "data": {
      "text/plain": [
       "1434"
      ]
     },
     "execution_count": 192,
     "metadata": {},
     "output_type": "execute_result"
    }
   ],
   "source": [
    "population[population.total_votes*2>population.Population].shape[0]"
   ]
  },
  {
   "cell_type": "markdown",
   "metadata": {},
   "source": [
    "结论: 共有1434个县总投票数超过县人数的一半"
   ]
  },
  {
   "cell_type": "markdown",
   "metadata": {},
   "source": [
    "2 把州（state）作为行索引，把投票候选人作为列名，列名的顺序按照候选人在全美的总票数由高到低排序，行列对应的元素为该候选人在该州获得的总票数"
   ]
  },
  {
   "cell_type": "code",
   "execution_count": 207,
   "metadata": {},
   "outputs": [],
   "source": [
    "# 先得到全美票数排名\n",
    "# 然后计算每个候选人在每个州的总票数"
   ]
  },
  {
   "cell_type": "code",
   "execution_count": 197,
   "metadata": {},
   "outputs": [],
   "source": [
    "candidate.drop('US County',axis = 1, inplace = True)"
   ]
  },
  {
   "cell_type": "code",
   "execution_count": 234,
   "metadata": {},
   "outputs": [],
   "source": [
    "# 排名\n",
    "col = candidate.groupby('candidate')['total_votes'].sum().sort_values(ascending = False).index \n",
    "\n",
    "# 计算每个候选人在各州所得总票数\n",
    "temp = pd.DataFrame(candidate.groupby(['state','candidate'])['total_votes'].sum().reset_index()) \n",
    "\n",
    "# 透视:长表变宽表\n",
    "df2 = temp.pivot(index = 'state', columns = 'candidate', values = 'total_votes')[col].fillna(0).astype('int')"
   ]
  },
  {
   "cell_type": "code",
   "execution_count": 242,
   "metadata": {},
   "outputs": [
    {
     "data": {
      "text/html": [
       "<div>\n",
       "<style scoped>\n",
       "    .dataframe tbody tr th:only-of-type {\n",
       "        vertical-align: middle;\n",
       "    }\n",
       "\n",
       "    .dataframe tbody tr th {\n",
       "        vertical-align: top;\n",
       "    }\n",
       "\n",
       "    .dataframe thead th {\n",
       "        text-align: right;\n",
       "    }\n",
       "</style>\n",
       "<table border=\"1\" class=\"dataframe\">\n",
       "  <thead>\n",
       "    <tr style=\"text-align: right;\">\n",
       "      <th>candidate</th>\n",
       "      <th>Joe Biden</th>\n",
       "      <th>Donald Trump</th>\n",
       "      <th>Jo Jorgensen</th>\n",
       "      <th>Howie Hawkins</th>\n",
       "      <th>Write-ins</th>\n",
       "      <th>Rocky De La Fuente</th>\n",
       "      <th>Gloria La Riva</th>\n",
       "      <th>Kanye West</th>\n",
       "      <th>Don Blankenship</th>\n",
       "      <th>Brock Pierce</th>\n",
       "      <th>...</th>\n",
       "      <th>Tom Hoefling</th>\n",
       "      <th>Ricki Sue King</th>\n",
       "      <th>Princess Jacob-Fambro</th>\n",
       "      <th>Blake Huber</th>\n",
       "      <th>Richard Duncan</th>\n",
       "      <th>Joseph Kishore</th>\n",
       "      <th>Jordan Scott</th>\n",
       "      <th>Gary Swing</th>\n",
       "      <th>Keith McCormic</th>\n",
       "      <th>Zachary Scalf</th>\n",
       "    </tr>\n",
       "    <tr>\n",
       "      <th>state</th>\n",
       "      <th></th>\n",
       "      <th></th>\n",
       "      <th></th>\n",
       "      <th></th>\n",
       "      <th></th>\n",
       "      <th></th>\n",
       "      <th></th>\n",
       "      <th></th>\n",
       "      <th></th>\n",
       "      <th></th>\n",
       "      <th></th>\n",
       "      <th></th>\n",
       "      <th></th>\n",
       "      <th></th>\n",
       "      <th></th>\n",
       "      <th></th>\n",
       "      <th></th>\n",
       "      <th></th>\n",
       "      <th></th>\n",
       "      <th></th>\n",
       "      <th></th>\n",
       "    </tr>\n",
       "  </thead>\n",
       "  <tbody>\n",
       "    <tr>\n",
       "      <th>Alabama</th>\n",
       "      <td>849648</td>\n",
       "      <td>1441168</td>\n",
       "      <td>25176</td>\n",
       "      <td>0</td>\n",
       "      <td>7312</td>\n",
       "      <td>0</td>\n",
       "      <td>0</td>\n",
       "      <td>0</td>\n",
       "      <td>0</td>\n",
       "      <td>0</td>\n",
       "      <td>...</td>\n",
       "      <td>0</td>\n",
       "      <td>0</td>\n",
       "      <td>0</td>\n",
       "      <td>0</td>\n",
       "      <td>0</td>\n",
       "      <td>0</td>\n",
       "      <td>0</td>\n",
       "      <td>0</td>\n",
       "      <td>0</td>\n",
       "      <td>0</td>\n",
       "    </tr>\n",
       "    <tr>\n",
       "      <th>Alaska</th>\n",
       "      <td>153405</td>\n",
       "      <td>189892</td>\n",
       "      <td>8896</td>\n",
       "      <td>0</td>\n",
       "      <td>34210</td>\n",
       "      <td>318</td>\n",
       "      <td>0</td>\n",
       "      <td>0</td>\n",
       "      <td>1127</td>\n",
       "      <td>825</td>\n",
       "      <td>...</td>\n",
       "      <td>0</td>\n",
       "      <td>0</td>\n",
       "      <td>0</td>\n",
       "      <td>0</td>\n",
       "      <td>0</td>\n",
       "      <td>0</td>\n",
       "      <td>0</td>\n",
       "      <td>0</td>\n",
       "      <td>0</td>\n",
       "      <td>0</td>\n",
       "    </tr>\n",
       "    <tr>\n",
       "      <th>Arizona</th>\n",
       "      <td>1672143</td>\n",
       "      <td>1661686</td>\n",
       "      <td>51465</td>\n",
       "      <td>0</td>\n",
       "      <td>2032</td>\n",
       "      <td>0</td>\n",
       "      <td>0</td>\n",
       "      <td>0</td>\n",
       "      <td>0</td>\n",
       "      <td>0</td>\n",
       "      <td>...</td>\n",
       "      <td>0</td>\n",
       "      <td>0</td>\n",
       "      <td>0</td>\n",
       "      <td>0</td>\n",
       "      <td>0</td>\n",
       "      <td>0</td>\n",
       "      <td>0</td>\n",
       "      <td>0</td>\n",
       "      <td>0</td>\n",
       "      <td>0</td>\n",
       "    </tr>\n",
       "    <tr>\n",
       "      <th>Arkansas</th>\n",
       "      <td>423932</td>\n",
       "      <td>760647</td>\n",
       "      <td>13133</td>\n",
       "      <td>2980</td>\n",
       "      <td>0</td>\n",
       "      <td>1321</td>\n",
       "      <td>1336</td>\n",
       "      <td>4099</td>\n",
       "      <td>2108</td>\n",
       "      <td>2141</td>\n",
       "      <td>...</td>\n",
       "      <td>0</td>\n",
       "      <td>0</td>\n",
       "      <td>0</td>\n",
       "      <td>0</td>\n",
       "      <td>0</td>\n",
       "      <td>0</td>\n",
       "      <td>0</td>\n",
       "      <td>0</td>\n",
       "      <td>0</td>\n",
       "      <td>0</td>\n",
       "    </tr>\n",
       "    <tr>\n",
       "      <th>California</th>\n",
       "      <td>11109764</td>\n",
       "      <td>6005961</td>\n",
       "      <td>187885</td>\n",
       "      <td>81025</td>\n",
       "      <td>80</td>\n",
       "      <td>60155</td>\n",
       "      <td>51036</td>\n",
       "      <td>0</td>\n",
       "      <td>0</td>\n",
       "      <td>0</td>\n",
       "      <td>...</td>\n",
       "      <td>0</td>\n",
       "      <td>0</td>\n",
       "      <td>0</td>\n",
       "      <td>0</td>\n",
       "      <td>0</td>\n",
       "      <td>0</td>\n",
       "      <td>0</td>\n",
       "      <td>0</td>\n",
       "      <td>0</td>\n",
       "      <td>0</td>\n",
       "    </tr>\n",
       "  </tbody>\n",
       "</table>\n",
       "<p>5 rows × 38 columns</p>\n",
       "</div>"
      ],
      "text/plain": [
       "candidate   Joe Biden  Donald Trump  Jo Jorgensen  Howie Hawkins   Write-ins  \\\n",
       "state                                                                          \n",
       "Alabama        849648       1441168         25176              0        7312   \n",
       "Alaska         153405        189892          8896              0       34210   \n",
       "Arizona       1672143       1661686         51465              0        2032   \n",
       "Arkansas       423932        760647         13133           2980           0   \n",
       "California   11109764       6005961        187885          81025          80   \n",
       "\n",
       "candidate   Rocky De La Fuente  Gloria La Riva  Kanye West  Don Blankenship  \\\n",
       "state                                                                         \n",
       "Alabama                      0               0           0                0   \n",
       "Alaska                     318               0           0             1127   \n",
       "Arizona                      0               0           0                0   \n",
       "Arkansas                  1321            1336        4099             2108   \n",
       "California               60155           51036           0                0   \n",
       "\n",
       "candidate   Brock Pierce  ...  Tom Hoefling  Ricki Sue King  \\\n",
       "state                     ...                                 \n",
       "Alabama                0  ...             0               0   \n",
       "Alaska               825  ...             0               0   \n",
       "Arizona                0  ...             0               0   \n",
       "Arkansas            2141  ...             0               0   \n",
       "California             0  ...             0               0   \n",
       "\n",
       "candidate   Princess Jacob-Fambro  Blake Huber  Richard Duncan  \\\n",
       "state                                                            \n",
       "Alabama                         0            0               0   \n",
       "Alaska                          0            0               0   \n",
       "Arizona                         0            0               0   \n",
       "Arkansas                        0            0               0   \n",
       "California                      0            0               0   \n",
       "\n",
       "candidate   Joseph Kishore  Jordan Scott  Gary Swing  Keith McCormic  \\\n",
       "state                                                                  \n",
       "Alabama                  0             0           0               0   \n",
       "Alaska                   0             0           0               0   \n",
       "Arizona                  0             0           0               0   \n",
       "Arkansas                 0             0           0               0   \n",
       "California               0             0           0               0   \n",
       "\n",
       "candidate   Zachary Scalf  \n",
       "state                      \n",
       "Alabama                 0  \n",
       "Alaska                  0  \n",
       "Arizona                 0  \n",
       "Arkansas                0  \n",
       "California              0  \n",
       "\n",
       "[5 rows x 38 columns]"
      ]
     },
     "execution_count": 242,
     "metadata": {},
     "output_type": "execute_result"
    }
   ],
   "source": [
    "df2.head()"
   ]
  },
  {
   "cell_type": "markdown",
   "metadata": {},
   "source": [
    "3  每一个州下设若干县，定义拜登在该县的得票率减去川普在该县的得票率为该县的BT指标，若某个州所有县BT指标的中位数大于0，则称该州为Biden State，请找出所有的Biden State"
   ]
  },
  {
   "cell_type": "code",
   "execution_count": 243,
   "metadata": {},
   "outputs": [],
   "source": [
    "# 先计算每个县里面,每个候选人的得票率\n",
    "# 计算每个县BT指标\n",
    "# 根据BT指标计算每个州的中位数\n",
    "# 筛选出所有中位数大于0的州"
   ]
  },
  {
   "cell_type": "code",
   "execution_count": 284,
   "metadata": {},
   "outputs": [
    {
     "data": {
      "text/html": [
       "<div>\n",
       "<style scoped>\n",
       "    .dataframe tbody tr th:only-of-type {\n",
       "        vertical-align: middle;\n",
       "    }\n",
       "\n",
       "    .dataframe tbody tr th {\n",
       "        vertical-align: top;\n",
       "    }\n",
       "\n",
       "    .dataframe thead th {\n",
       "        text-align: right;\n",
       "    }\n",
       "</style>\n",
       "<table border=\"1\" class=\"dataframe\">\n",
       "  <thead>\n",
       "    <tr style=\"text-align: right;\">\n",
       "      <th></th>\n",
       "      <th>state</th>\n",
       "      <th>county</th>\n",
       "      <th>candidate</th>\n",
       "      <th>party</th>\n",
       "      <th>total_votes</th>\n",
       "      <th>won</th>\n",
       "      <th>rate</th>\n",
       "    </tr>\n",
       "  </thead>\n",
       "  <tbody>\n",
       "    <tr>\n",
       "      <th>0</th>\n",
       "      <td>Delaware</td>\n",
       "      <td>Kent County</td>\n",
       "      <td>Joe Biden</td>\n",
       "      <td>DEM</td>\n",
       "      <td>44552</td>\n",
       "      <td>True</td>\n",
       "      <td>0.511945</td>\n",
       "    </tr>\n",
       "    <tr>\n",
       "      <th>1</th>\n",
       "      <td>Delaware</td>\n",
       "      <td>Kent County</td>\n",
       "      <td>Donald Trump</td>\n",
       "      <td>REP</td>\n",
       "      <td>41009</td>\n",
       "      <td>False</td>\n",
       "      <td>0.471232</td>\n",
       "    </tr>\n",
       "    <tr>\n",
       "      <th>2</th>\n",
       "      <td>Delaware</td>\n",
       "      <td>Kent County</td>\n",
       "      <td>Jo Jorgensen</td>\n",
       "      <td>LIB</td>\n",
       "      <td>1044</td>\n",
       "      <td>False</td>\n",
       "      <td>0.011997</td>\n",
       "    </tr>\n",
       "    <tr>\n",
       "      <th>3</th>\n",
       "      <td>Delaware</td>\n",
       "      <td>Kent County</td>\n",
       "      <td>Howie Hawkins</td>\n",
       "      <td>GRN</td>\n",
       "      <td>420</td>\n",
       "      <td>False</td>\n",
       "      <td>0.004826</td>\n",
       "    </tr>\n",
       "    <tr>\n",
       "      <th>4</th>\n",
       "      <td>Delaware</td>\n",
       "      <td>New Castle County</td>\n",
       "      <td>Joe Biden</td>\n",
       "      <td>DEM</td>\n",
       "      <td>195034</td>\n",
       "      <td>True</td>\n",
       "      <td>0.678065</td>\n",
       "    </tr>\n",
       "  </tbody>\n",
       "</table>\n",
       "</div>"
      ],
      "text/plain": [
       "      state             county      candidate party  total_votes    won  \\\n",
       "0  Delaware        Kent County      Joe Biden   DEM        44552   True   \n",
       "1  Delaware        Kent County   Donald Trump   REP        41009  False   \n",
       "2  Delaware        Kent County   Jo Jorgensen   LIB         1044  False   \n",
       "3  Delaware        Kent County  Howie Hawkins   GRN          420  False   \n",
       "4  Delaware  New Castle County      Joe Biden   DEM       195034   True   \n",
       "\n",
       "       rate  \n",
       "0  0.511945  \n",
       "1  0.471232  \n",
       "2  0.011997  \n",
       "3  0.004826  \n",
       "4  0.678065  "
      ]
     },
     "execution_count": 284,
     "metadata": {},
     "output_type": "execute_result"
    }
   ],
   "source": [
    "candidate.head()"
   ]
  },
  {
   "cell_type": "code",
   "execution_count": 285,
   "metadata": {},
   "outputs": [],
   "source": [
    "# 计算每个县的得票率\n",
    "candidate['rate'] = candidate.groupby(['state', 'county'])['total_votes'].transform(lambda x: x/x.sum())"
   ]
  },
  {
   "cell_type": "code",
   "execution_count": 286,
   "metadata": {},
   "outputs": [],
   "source": [
    "temp = candidate.copy()"
   ]
  },
  {
   "cell_type": "code",
   "execution_count": 287,
   "metadata": {},
   "outputs": [],
   "source": [
    "# 只保留川普和拜登的投票率数据\n",
    "temp = temp[temp.candidate.isin(['Donald Trump', 'Joe Biden'])]"
   ]
  },
  {
   "cell_type": "code",
   "execution_count": 288,
   "metadata": {},
   "outputs": [],
   "source": [
    "# 长表变宽表,把拜登和川普作为列名\n",
    "temp = temp.pivot(index = ['state', 'county'], columns = 'candidate', values = 'rate').reset_index()"
   ]
  },
  {
   "cell_type": "code",
   "execution_count": 289,
   "metadata": {},
   "outputs": [],
   "source": [
    "# 计算每个县的BT指数\n",
    "temp['BT'] = temp['Joe Biden'] - temp['Donald Trump']"
   ]
  },
  {
   "cell_type": "code",
   "execution_count": 290,
   "metadata": {},
   "outputs": [],
   "source": [
    "# 计算每个州BT指数的中位数\n",
    "final = temp.groupby(['state'])['BT'].median().reset_index()"
   ]
  },
  {
   "cell_type": "code",
   "execution_count": 293,
   "metadata": {
    "scrolled": true
   },
   "outputs": [
    {
     "data": {
      "text/plain": [
       "4               California\n",
       "6              Connecticut\n",
       "7                 Delaware\n",
       "8     District of Columbia\n",
       "11                  Hawaii\n",
       "21           Massachusetts\n",
       "30              New Jersey\n",
       "39            Rhode Island\n",
       "45                 Vermont\n",
       "Name: state, dtype: object"
      ]
     },
     "execution_count": 293,
     "metadata": {},
     "output_type": "execute_result"
    }
   ],
   "source": [
    "# 筛选出BT指数大于0的州\n",
    "final[final.BT>0].state"
   ]
  }
 ],
 "metadata": {
  "kernelspec": {
   "display_name": "Python 3",
   "language": "python",
   "name": "python3"
  },
  "language_info": {
   "codemirror_mode": {
    "name": "ipython",
    "version": 3
   },
   "file_extension": ".py",
   "mimetype": "text/x-python",
   "name": "python",
   "nbconvert_exporter": "python",
   "pygments_lexer": "ipython3",
   "version": "3.7.3"
  }
 },
 "nbformat": 4,
 "nbformat_minor": 2
}
